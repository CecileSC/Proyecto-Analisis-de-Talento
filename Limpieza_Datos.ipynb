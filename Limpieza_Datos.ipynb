{
 "cells": [
  {
   "cell_type": "code",
   "execution_count": 16,
   "metadata": {},
   "outputs": [],
   "source": [
    "import warnings\n",
    "warnings.simplefilter(action='ignore', category=FutureWarning) # elimina los errres de que van a cambiar\n",
    "\n",
    "# importamos las librerías que necesitamos\n",
    "# Tratamiento de datos\n",
    "# -----------------------------------------------------------------------\n",
    "import pandas as pd\n",
    "import numpy as np\n",
    "\n",
    "# Imputación de nulos usando métodos avanzados estadísticos\n",
    "# -----------------------------------------------------------------------\n",
    "from sklearn.impute import SimpleImputer\n",
    "from sklearn.experimental import enable_iterative_imputer\n",
    "from sklearn.impute import IterativeImputer\n",
    "from sklearn.impute import KNNImputer\n",
    "\n",
    "# Librerías de visualización\n",
    "# -----------------------------------------------------------------------\n",
    "import seaborn as sns\n",
    "import matplotlib.pyplot as plt\n",
    "# Configuración\n",
    "# -----------------------------------------------------------------------\n",
    "pd.set_option('display.max_columns', None) # para poder visualizar todas las columnas de los DataFrames\n",
    "\n",
    "from word2number import w2n"
   ]
  },
  {
   "cell_type": "code",
   "execution_count": 17,
   "metadata": {},
   "outputs": [],
   "source": [
    "# ! pip install word2number intalar esto e importar\n",
    "# from word2number import w2n "
   ]
  },
  {
   "cell_type": "code",
   "execution_count": 18,
   "metadata": {},
   "outputs": [],
   "source": [
    "class LimpiarDatos:\n",
    "    def __init__(self):\n",
    "        self.df = pd.read_csv(\"HR RAW DATA.csv\", index_col=0)\n",
    "    \n",
    "    def cambiar_nombres_columnas (self):\n",
    "        nombres_columnas = {\"employeecount\":\"EmployeeCount\",\n",
    "                     \"employeenumber\" :\"EmployeeNumber\",\n",
    "                     \"NUMCOMPANIESWORKED\" : \"NumCompaniesWorked\",\n",
    "                     \"TOTALWORKINGYEARS\" :\"TotalWorkingYears\",\n",
    "                     \"WORKLIFEBALANCE\" : \"WorkLifeBalance\",\n",
    "                     \"YEARSWITHCURRMANAGER\" : \"YearsWithCurrManager\",\n",
    "                     \"NUMBERCHILDREN\" : \"NumberChildren\"}\n",
    "        self.df.rename(columns=nombres_columnas, inplace=True)\n",
    "    \n",
    "    def eliminar_columnas (self):\n",
    "        columnas_eliminar = [\"EmployeeCount\", \"Salary\", \"NumberChildren\", \"SameAsMonthlyIncome\", \"DateBirth\", \"YearsInCurrentRole\", \"Over18\"]\n",
    "        self.df.drop(columns=columnas_eliminar, inplace=True)\n",
    "\n",
    "    def cambiar_a_numerico (self):\n",
    "        # convertir la edad str en número:\n",
    "        def convertir_edad(value):\n",
    "            try:\n",
    "                return w2n.word_to_num(value)\n",
    "            except ValueError:\n",
    "                return value  # Devolver el valor original si no puede ser convertido\n",
    "        self.df[\"Age\"] = self.df[\"Age\"].apply(convertir_edad)\n",
    "        \n",
    "        # quitar simbolo $\n",
    "        self.df[\"DailyRate\"] = self.df[\"DailyRate\"].str.replace(\"$\", \"\")\n",
    "\n",
    "        # Convertir la distancia al trabajo en positivo\n",
    "        self.df[\"DistanceFromHome\"] = self.df[\"DistanceFromHome\"].abs()\n",
    "            \n",
    "        # columnas a convertir a numerico\n",
    "        columnas_a_convertir = [\"DailyRate\", \"EmployeeNumber\", \"MonthlyIncome\", \"TotalWorkingYears\", \"Age\", \"HourlyRate\", \"StandardHours\"]\n",
    "        for col in columnas_a_convertir:\n",
    "            if self.df[col].dtype == 'object':\n",
    "                # Verificar si la columna contiene comas antes de intentar reemplazarlas\n",
    "                if self.df[col].str.contains(\",\").any():\n",
    "                    self.df[col] = self.df[col].str.replace(\",\", \".\")\n",
    "            # Convertir la columna a formato numérico\n",
    "                try:\n",
    "                    self.df[col] = pd.to_numeric(self.df[col], errors='coerce')\n",
    "                except:\n",
    "                    self.df[col] = np.nan   \n",
    "    \n",
    "    def cambiar_a_categorica (self):\n",
    "        # if self.df.select_dtypes(include = \"object\")\n",
    "        # Comprobar las columnas que tiene guion y quitarlo\n",
    "        columnas_guion = [col for col in self.df.select_dtypes(include = \"object\").columns if self.df[col].str.contains('-|_', regex=True).any()]        \n",
    "        for col in columnas_guion:\n",
    "            self.df[col] = self.df[col].apply(lambda val: val.replace(\"_\", \" \").replace(\"-\", \" \") if pd.notna(val) else val)\n",
    "\n",
    "        # convertimos los nombres a minusculas y luego ponemos la primera letra en mayusculas\n",
    "        columnas_objetivo = self.df.select_dtypes(include=\"object\").columns\n",
    "        for col in columnas_objetivo:\n",
    "            self.df[col] = self.df[col].str.lower().str.title()\n",
    "\n",
    "        # Quitamos el segundo digito del valor. Deberian de ser valores del 1 al 4 y este patron se repite solo en el primer digito, eliminamos el segundo.\n",
    "        self.df['EnvironmentSatisfaction'] = self.df['EnvironmentSatisfaction'].apply(lambda num: num if num < 10 else num // 10 )\n",
    "\n",
    "        # Poner nombres descriptivos               \n",
    "        self.df[\"Education\"].replace(to_replace= [1, 2, 3, 4, 5], value=[\"Primary\", \"Secondary\", \"High School\", \"Bachelor's\", \"Postgraduate\"], inplace=True)\n",
    "        self.df[\"JobLevel\"].replace(to_replace= [1, 2, 3, 4, 5], value=[\"Entry Level\", \"Assistant\", \"Coordinator\", \"Manager\", \"Director\"], inplace=True)\n",
    "        self.df[\"Gender\"].replace(to_replace= [0, 1], value=[\"Male\", \"Female\"], inplace=True)\n",
    "        self.df[\"RemoteWork\"].replace(to_replace= [\"0\", \"1\", \"True\", \"False\"], value=[\"No\", \"Yes\", \"Yes\", \"No\"], inplace=True)\n",
    "        self.df[\"StockOptionLevel\"].replace(to_replace= [0, 1, 2, 3], value=[\"None\", \"Low\", \"Medium\", \"High\"], inplace=True)\n",
    "        \n",
    "        satisfaccion = [\"JobInvolvement\", \"EnvironmentSatisfaction\", \"JobSatisfaction\", \"RelationshipSatisfaction\", \"WorkLifeBalance\"]\n",
    "        for col in satisfaccion:\n",
    "            self.df[col].replace(to_replace= [1, 2, 3, 4], value=[\"Very Low\", \"Low\", \"Medium\", \"High\"], inplace=True)\n",
    "\n",
    "    def guardar_archivo (self):\n",
    "        # Save into a .csv file\n",
    "        self.df.to_csv(f\"hr_raw_data_limpio_.csv\")\n",
    "       \n",
    "           "
   ]
  },
  {
   "cell_type": "code",
   "execution_count": 19,
   "metadata": {},
   "outputs": [],
   "source": [
    "limpieza = LimpiarDatos()"
   ]
  },
  {
   "cell_type": "code",
   "execution_count": null,
   "metadata": {},
   "outputs": [],
   "source": [
    "print(limpieza.df.columns)\n",
    "limpieza.cambiar_nombres_columnas()\n",
    "print(limpieza.df.columns)"
   ]
  },
  {
   "cell_type": "code",
   "execution_count": null,
   "metadata": {},
   "outputs": [],
   "source": [
    "print(limpieza.df.shape)\n",
    "limpieza.eliminar_columnas()\n",
    "print(limpieza.df.shape)"
   ]
  },
  {
   "cell_type": "code",
   "execution_count": null,
   "metadata": {},
   "outputs": [],
   "source": [
    "print(limpieza.df[[\"DailyRate\", \"EmployeeNumber\", \"MonthlyIncome\", \"TotalWorkingYears\", \"Age\", \"HourlyRate\", \"StandardHours\"]].info())\n",
    "print(limpieza.df[\"HourlyRate\"].unique())\n",
    "limpieza.cambiar_a_numerico()\n",
    "print(limpieza.df[[\"DailyRate\", \"EmployeeNumber\", \"MonthlyIncome\", \"TotalWorkingYears\", \"Age\", \"HourlyRate\", \"StandardHours\"]].info())\n",
    "print(limpieza.df[\"HourlyRate\"].unique())"
   ]
  },
  {
   "cell_type": "code",
   "execution_count": null,
   "metadata": {},
   "outputs": [],
   "source": [
    "print(limpieza.df[\"JobRole\"].value_counts())\n",
    "limpieza.cambiar_a_categorica()\n",
    "print(limpieza.df[\"JobRole\"].value_counts())"
   ]
  },
  {
   "cell_type": "code",
   "execution_count": 25,
   "metadata": {},
   "outputs": [],
   "source": [
    "limpieza.guardar_archivo()"
   ]
  }
 ],
 "metadata": {
  "kernelspec": {
   "display_name": "base",
   "language": "python",
   "name": "python3"
  },
  "language_info": {
   "codemirror_mode": {
    "name": "ipython",
    "version": 3
   },
   "file_extension": ".py",
   "mimetype": "text/x-python",
   "name": "python",
   "nbconvert_exporter": "python",
   "pygments_lexer": "ipython3",
   "version": "3.11.7"
  }
 },
 "nbformat": 4,
 "nbformat_minor": 2
}
