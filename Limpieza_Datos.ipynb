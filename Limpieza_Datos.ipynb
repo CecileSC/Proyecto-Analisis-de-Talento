{
 "cells": [
  {
   "cell_type": "code",
   "execution_count": 4,
   "metadata": {},
   "outputs": [],
   "source": [
    "import warnings\n",
    "warnings.simplefilter(action='ignore', category=FutureWarning) # elimina los errres de que van a cambiar\n",
    "\n",
    "# importamos las librerías que necesitamos\n",
    "# Tratamiento de datos\n",
    "# -----------------------------------------------------------------------\n",
    "import pandas as pd\n",
    "import numpy as np\n",
    "\n",
    "# Imputación de nulos usando métodos avanzados estadísticos\n",
    "# -----------------------------------------------------------------------\n",
    "from sklearn.impute import SimpleImputer\n",
    "from sklearn.experimental import enable_iterative_imputer\n",
    "from sklearn.impute import IterativeImputer\n",
    "from sklearn.impute import KNNImputer\n",
    "\n",
    "# Librerías de visualización\n",
    "# -----------------------------------------------------------------------\n",
    "import seaborn as sns\n",
    "import matplotlib.pyplot as plt\n",
    "# Configuración\n",
    "# -----------------------------------------------------------------------\n",
    "pd.set_option('display.max_columns', None) # para poder visualizar todas las columnas de los DataFrames\n",
    "\n",
    "from word2number import w2n"
   ]
  },
  {
   "cell_type": "code",
   "execution_count": 5,
   "metadata": {},
   "outputs": [],
   "source": [
    "# ! pip install word2number intalar esto e importar\n",
    "# from word2number import w2n "
   ]
  },
  {
   "cell_type": "code",
   "execution_count": 6,
   "metadata": {},
   "outputs": [],
   "source": [
    "class LimpiarDatos:\n",
    "    def __init__(self):\n",
    "        self.df = pd.read_csv(\"HR RAW DATA.csv\", index_col=0)\n",
    "    \n",
    "    def cambiar_nombres_columnas (self):\n",
    "        nombres_columnas = {\"employeecount\":\"EmployeeCount\",\n",
    "                     \"employeenumber\" :\"EmployeeNumber\",\n",
    "                     \"NUMCOMPANIESWORKED\" : \"NumCompaniesWorked\",\n",
    "                     \"TOTALWORKINGYEARS\" :\"TotalWorkingYears\",\n",
    "                     \"WORKLIFEBALANCE\" : \"WorkLifeBalance\",\n",
    "                     \"YEARSWITHCURRMANAGER\" : \"YearsWithCurrManager\",\n",
    "                     \"NUMBERCHILDREN\" : \"NumberChildren\"}\n",
    "        self.df.rename(columns=nombres_columnas, inplace=True)\n",
    "    \n",
    "    def eliminar_columnas (self):\n",
    "        columnas_eliminar = [\"EmployeeCount\", \"Salary\", \"NumberChildren\", \"SameAsMonthlyIncome\", \"DateBirth\", \"YearsInCurrentRole\", \"Over18\"]\n",
    "        self.df.drop(columns=columnas_eliminar, inplace=True)\n",
    "\n",
    "    def cambiar_a_numerico (self):\n",
    "        # convertir la edad str en número:\n",
    "        def convertir_edad(value):\n",
    "            try:\n",
    "                return w2n.word_to_num(value)\n",
    "            except ValueError:\n",
    "                return value  # Devolver el valor original si no puede ser convertido\n",
    "        self.df[\"Age\"] = self.df[\"Age\"].apply(convertir_edad)\n",
    "        \n",
    "        # quitar simbolo $\n",
    "        self.df[\"DailyRate\"] = self.df[\"DailyRate\"].str.replace(\"$\", \"\")\n",
    "\n",
    "        # Convertir la distancia al trabajo en positivo\n",
    "        self.df[\"DistanceFromHome\"] = self.df[\"DistanceFromHome\"].abs()\n",
    "            \n",
    "        # columnas a convertir a numerico\n",
    "        columnas_a_convertir = [\"DailyRate\", \"EmployeeNumber\", \"MonthlyIncome\", \"TotalWorkingYears\", \"Age\", \"HourlyRate\", \"StandardHours\"]\n",
    "        for col in columnas_a_convertir:\n",
    "            if self.df[col].dtype == 'object':\n",
    "                # Verificar si la columna contiene comas antes de intentar reemplazarlas\n",
    "                if self.df[col].str.contains(\",\").any():\n",
    "                    self.df[col] = self.df[col].str.replace(\",\", \".\")\n",
    "            # Convertir la columna a formato numérico\n",
    "                try:\n",
    "                    self.df[col] = pd.to_numeric(self.df[col], errors='coerce')\n",
    "                except:\n",
    "                    self.df[col] = np.nan   \n",
    "    \n",
    "    def cambiar_a_categorica (self):\n",
    "        # if self.df.select_dtypes(include = \"object\")\n",
    "        # Comprobar las columnas que tiene guion y quitarlo\n",
    "        columnas_guion = [col for col in self.df.select_dtypes(include = \"object\").columns if self.df[col].str.contains('-|_', regex=True).any()]        \n",
    "        for col in columnas_guion:\n",
    "            self.df[col] = self.df[col].apply(lambda val: val.replace(\"_\", \" \").replace(\"-\", \" \") if pd.notna(val) else val)\n",
    "\n",
    "        # convertimos los nombres a minusculas y luego ponemos la primera letra en mayusculas\n",
    "        columnas_objetivo = self.df.select_dtypes(include=\"object\").columns\n",
    "        for col in columnas_objetivo:\n",
    "            self.df[col] = self.df[col].str.lower().str.title()\n",
    "\n",
    "        # Quitamos el segundo digito del valor. Deberian de ser valores del 1 al 4 y este patron se repite solo en el primer digito, eliminamos el segundo.\n",
    "        self.df['EnvironmentSatisfaction'] = self.df['EnvironmentSatisfaction'].apply(lambda num: num if num < 10 else num // 10 )\n",
    "\n",
    "        # Poner nombres descriptivos               \n",
    "        self.df[\"Education\"].replace(to_replace= [1, 2, 3, 4, 5], value=[\"Primary\", \"Secondary\", \"High School\", \"Bachelor's\", \"Postgraduate\"], inplace=True)\n",
    "        self.df[\"JobLevel\"].replace(to_replace= [1, 2, 3, 4, 5], value=[\"Entry Level\", \"Assistant\", \"Coordinator\", \"Manager\", \"Director\"], inplace=True)\n",
    "        self.df[\"Gender\"].replace(to_replace= [0, 1], value=[\"Male\", \"Female\"], inplace=True)\n",
    "        self.df[\"RemoteWork\"].replace(to_replace= [\"0\", \"1\", \"True\", \"False\"], value=[\"No\", \"Yes\", \"Yes\", \"No\"], inplace=True)\n",
    "        self.df[\"StockOptionLevel\"].replace(to_replace= [0, 1, 2, 3], value=[\"None\", \"Low\", \"Medium\", \"High\"], inplace=True)\n",
    "        self.df[\"MaritalStatus\"].replace(to_replace= \"Marreid\", value= \"Married\", inplace=True)\n",
    "        \n",
    "        satisfaccion = [\"JobInvolvement\", \"EnvironmentSatisfaction\", \"JobSatisfaction\", \"RelationshipSatisfaction\", \"WorkLifeBalance\"]\n",
    "        for col in satisfaccion:\n",
    "            self.df[col].replace(to_replace= [1, 2, 3, 4], value=[\"Very Low\", \"Low\", \"Medium\", \"High\"], inplace=True)\n",
    "\n",
    "    def guardar_archivo (self):\n",
    "        # Save into a .csv file\n",
    "        self.df.to_csv(f\"hr_raw_data_limpio_.csv\")\n",
    "       \n",
    "           "
   ]
  },
  {
   "cell_type": "code",
   "execution_count": 13,
   "metadata": {},
   "outputs": [],
   "source": [
    "limpieza = LimpiarDatos()\n",
    "limpieza.cambiar_nombres_columnas()\n",
    "limpieza.eliminar_columnas()\n",
    "limpieza.cambiar_a_numerico()\n",
    "limpieza.cambiar_a_categorica()"
   ]
  },
  {
   "cell_type": "code",
   "execution_count": 8,
   "metadata": {},
   "outputs": [
    {
     "name": "stdout",
     "output_type": "stream",
     "text": [
      "Index(['Age', 'Attrition', 'BusinessTravel', 'DailyRate', 'Department',\n",
      "       'DistanceFromHome', 'Education', 'EducationField', 'EmployeeNumber',\n",
      "       'EnvironmentSatisfaction', 'Gender', 'HourlyRate', 'JobInvolvement',\n",
      "       'JobLevel', 'JobRole', 'JobSatisfaction', 'MaritalStatus',\n",
      "       'MonthlyIncome', 'MonthlyRate', 'NumCompaniesWorked', 'OverTime',\n",
      "       'PercentSalaryHike', 'PerformanceRating', 'RelationshipSatisfaction',\n",
      "       'StandardHours', 'StockOptionLevel', 'TotalWorkingYears',\n",
      "       'TrainingTimesLastYear', 'WorkLifeBalance', 'YearsAtCompany',\n",
      "       'YearsSinceLastPromotion', 'YearsWithCurrManager', 'RoleDepartament',\n",
      "       'RemoteWork'],\n",
      "      dtype='object')\n",
      "Index(['Age', 'Attrition', 'BusinessTravel', 'DailyRate', 'Department',\n",
      "       'DistanceFromHome', 'Education', 'EducationField', 'EmployeeNumber',\n",
      "       'EnvironmentSatisfaction', 'Gender', 'HourlyRate', 'JobInvolvement',\n",
      "       'JobLevel', 'JobRole', 'JobSatisfaction', 'MaritalStatus',\n",
      "       'MonthlyIncome', 'MonthlyRate', 'NumCompaniesWorked', 'OverTime',\n",
      "       'PercentSalaryHike', 'PerformanceRating', 'RelationshipSatisfaction',\n",
      "       'StandardHours', 'StockOptionLevel', 'TotalWorkingYears',\n",
      "       'TrainingTimesLastYear', 'WorkLifeBalance', 'YearsAtCompany',\n",
      "       'YearsSinceLastPromotion', 'YearsWithCurrManager', 'RoleDepartament',\n",
      "       'RemoteWork'],\n",
      "      dtype='object')\n"
     ]
    }
   ],
   "source": [
    "print(limpieza.df.columns)\n",
    "\n",
    "print(limpieza.df.columns)"
   ]
  },
  {
   "cell_type": "code",
   "execution_count": 9,
   "metadata": {},
   "outputs": [
    {
     "name": "stdout",
     "output_type": "stream",
     "text": [
      "(1614, 34)\n",
      "(1614, 34)\n"
     ]
    }
   ],
   "source": [
    "print(limpieza.df.shape)\n",
    "\n",
    "print(limpieza.df.shape)"
   ]
  },
  {
   "cell_type": "code",
   "execution_count": 10,
   "metadata": {},
   "outputs": [
    {
     "name": "stdout",
     "output_type": "stream",
     "text": [
      "<class 'pandas.core.frame.DataFrame'>\n",
      "Int64Index: 1614 entries, 0 to 1613\n",
      "Data columns (total 7 columns):\n",
      " #   Column             Non-Null Count  Dtype  \n",
      "---  ------             --------------  -----  \n",
      " 0   DailyRate          1490 non-null   float64\n",
      " 1   EmployeeNumber     1183 non-null   float64\n",
      " 2   MonthlyIncome      771 non-null    float64\n",
      " 3   TotalWorkingYears  1088 non-null   float64\n",
      " 4   Age                1614 non-null   int64  \n",
      " 5   HourlyRate         1530 non-null   float64\n",
      " 6   StandardHours      419 non-null    float64\n",
      "dtypes: float64(6), int64(1)\n",
      "memory usage: 100.9 KB\n",
      "None\n",
      "[ 51.  65.  58.  82.  45.  99.  91.  64.  55.  68.  49.  61.  79.  31.\n",
      "  69.  48.  80.  74.  98.  59.  33.  56.  66.  57.  53.  87.  81.  84.\n",
      "  32.  41.  92.  47.  nan  43.  86.  30.  42.  88.  96.  67.  62.  72.\n",
      "  78.  89.  52.  50.  90.  37.  94.  76.  60.  46.  83. 100.  40.  97.\n",
      "  54.  75.  39.  85.  63.  44.  93.  36.  35.  73.  71.  70.  38.  77.\n",
      "  95.  34.]\n",
      "<class 'pandas.core.frame.DataFrame'>\n",
      "Int64Index: 1614 entries, 0 to 1613\n",
      "Data columns (total 7 columns):\n",
      " #   Column             Non-Null Count  Dtype  \n",
      "---  ------             --------------  -----  \n",
      " 0   DailyRate          1490 non-null   float64\n",
      " 1   EmployeeNumber     1183 non-null   float64\n",
      " 2   MonthlyIncome      771 non-null    float64\n",
      " 3   TotalWorkingYears  1088 non-null   float64\n",
      " 4   Age                1614 non-null   int64  \n",
      " 5   HourlyRate         1530 non-null   float64\n",
      " 6   StandardHours      419 non-null    float64\n",
      "dtypes: float64(6), int64(1)\n",
      "memory usage: 100.9 KB\n",
      "None\n",
      "[ 51.  65.  58.  82.  45.  99.  91.  64.  55.  68.  49.  61.  79.  31.\n",
      "  69.  48.  80.  74.  98.  59.  33.  56.  66.  57.  53.  87.  81.  84.\n",
      "  32.  41.  92.  47.  nan  43.  86.  30.  42.  88.  96.  67.  62.  72.\n",
      "  78.  89.  52.  50.  90.  37.  94.  76.  60.  46.  83. 100.  40.  97.\n",
      "  54.  75.  39.  85.  63.  44.  93.  36.  35.  73.  71.  70.  38.  77.\n",
      "  95.  34.]\n"
     ]
    }
   ],
   "source": [
    "print(limpieza.df[[\"DailyRate\", \"EmployeeNumber\", \"MonthlyIncome\", \"TotalWorkingYears\", \"Age\", \"HourlyRate\", \"StandardHours\"]].info())\n",
    "print(limpieza.df[\"HourlyRate\"].unique())\n",
    "\n",
    "print(limpieza.df[[\"DailyRate\", \"EmployeeNumber\", \"MonthlyIncome\", \"TotalWorkingYears\", \"Age\", \"HourlyRate\", \"StandardHours\"]].info())\n",
    "print(limpieza.df[\"HourlyRate\"].unique())"
   ]
  },
  {
   "cell_type": "code",
   "execution_count": 11,
   "metadata": {},
   "outputs": [
    {
     "name": "stdout",
     "output_type": "stream",
     "text": [
      " Sales Executive               369\n",
      " Research Scientist            314\n",
      " Laboratory Technician         278\n",
      " Manufacturing Director        158\n",
      " Healthcare Representative     149\n",
      " Manager                       111\n",
      " Sales Representative           90\n",
      " Research Director              88\n",
      " Human Resources                57\n",
      "Name: JobRole, dtype: int64\n",
      " Sales Executive               369\n",
      " Research Scientist            314\n",
      " Laboratory Technician         278\n",
      " Manufacturing Director        158\n",
      " Healthcare Representative     149\n",
      " Manager                       111\n",
      " Sales Representative           90\n",
      " Research Director              88\n",
      " Human Resources                57\n",
      "Name: JobRole, dtype: int64\n"
     ]
    }
   ],
   "source": [
    "print(limpieza.df[\"JobRole\"].value_counts())\n",
    "\n",
    "print(limpieza.df[\"JobRole\"].value_counts())"
   ]
  },
  {
   "cell_type": "code",
   "execution_count": 12,
   "metadata": {},
   "outputs": [],
   "source": [
    "limpieza.guardar_archivo()"
   ]
  }
 ],
 "metadata": {
  "kernelspec": {
   "display_name": "base",
   "language": "python",
   "name": "python3"
  },
  "language_info": {
   "codemirror_mode": {
    "name": "ipython",
    "version": 3
   },
   "file_extension": ".py",
   "mimetype": "text/x-python",
   "name": "python",
   "nbconvert_exporter": "python",
   "pygments_lexer": "ipython3",
   "version": "3.9.12"
  }
 },
 "nbformat": 4,
 "nbformat_minor": 2
}
