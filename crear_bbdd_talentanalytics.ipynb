{
 "cells": [
  {
   "cell_type": "code",
   "execution_count": 23,
   "metadata": {},
   "outputs": [
    {
     "name": "stdout",
     "output_type": "stream",
     "text": [
      "Requirement already satisfied: mysql-connector-python in /opt/anaconda3/lib/python3.11/site-packages (9.0.0)\n"
     ]
    }
   ],
   "source": [
    "!pip install mysql-connector-python"
   ]
  },
  {
   "cell_type": "code",
   "execution_count": 24,
   "metadata": {},
   "outputs": [],
   "source": [
    "import mysql.connector\n",
    "from mysql.connector import errorcode\n",
    "import pandas as pd\n",
    "import numpy as np"
   ]
  },
  {
   "cell_type": "code",
   "execution_count": 25,
   "metadata": {},
   "outputs": [],
   "source": [
    "# Esta función crea el BDD. Se conecta al servidor y si funciona lo crea, si falla te dice el fallo.\n",
    "def crear_bbdd():\n",
    "    cnx = mysql.connector.connect(user='root', password='AlumnaAdalab', host='127.0.0.1')\n",
    "    mycursor = cnx.cursor()\n",
    "\n",
    "    try:\n",
    "        mycursor.execute(\"CREATE DATABASE ABC_Corporation\") # Aquí, el nombre de la base de datos se indica después del operador CREATE DATABASE.\n",
    "        print(\"DATABASE CREATED UNDER THE NAME: ABC_Corporation 🆗\")\n",
    "    except mysql.connector.Error as err:\n",
    "        print(err)\n",
    "        print(\"Error Code:\", err.errno)\n",
    "        print(\"SQLSTATE\", err.sqlstate)\n",
    "        print(\"Message\", err.msg)\n",
    "    finally:\n",
    "        cnx.commit()\n",
    "        mycursor.close()\n",
    "        cnx.close()\n",
    "\n",
    "# Esta función crea las tablas. Se conecta al servidor y si funciona lo crea, si falla te dice el fallo.\n",
    "def crear_tablas():\n",
    "    cnx = mysql.connector.connect(user='root', password='AlumnaAdalab', host='127.0.0.1', database='ABC_Corporation')\n",
    "    mycursor = cnx.cursor()\n",
    "\n",
    " # Lista de consultas donde se crean todas las tablas.\n",
    "    queries = [\n",
    "        \"\"\"CREATE TABLE Employee (\n",
    "\tID INT PRIMARY KEY AUTO_INCREMENT,\n",
    "    Age INT,\n",
    "    Attrition VARCHAR(3),\n",
    "    BusinessTravel VARCHAR(20),\n",
    "    DailyRate DECIMAL(10, 2),\n",
    "    Department VARCHAR(50),\n",
    "    DistanceFromHome INT,\n",
    "    Education INT,\n",
    "    EducationField VARCHAR(50),\n",
    "\tEmployeeNumber INT,\n",
    "    EnvironmentSatisfaction INT,\n",
    "    Gender INT,\n",
    "    HourlyRate DECIMAL(10, 2),\n",
    "    JobInvolvement INT,\n",
    "    JobLevel INT,\n",
    "    JobRole VARCHAR(50),\n",
    "    JobSatisfaction INT,\n",
    "    MaritalStatus VARCHAR(20),\n",
    "    MonthlyIncome DECIMAL(10, 2),\n",
    "    MonthlyRate DECIMAL(10, 2),\n",
    "    NumCompaniesWorked INT,\n",
    "    PercentSalaryHike DECIMAL(5, 2),\n",
    "    PerformanceRating INT,\n",
    "    RelationshipSatisfaction INT,\n",
    "    StandardHours INT,\n",
    "    StockOptionLevel INT,\n",
    "    TotalWorkingYears INT,\n",
    "    TrainingTimesLastYear INT,\n",
    "    WorkLifeBalance INT,\n",
    "    YearsAtCompany INT,\n",
    "    YearsInCurrentRole INT,\n",
    "    YearsSinceLastPromotion INT,\n",
    "    YearsWithCurrManager INT,\n",
    "\tDateBirth YEAR,\n",
    "    RoleDepartament VARCHAR(100),\n",
    "    RemoteWork VARCHAR(3)\n",
    "    );\"\"\",\n",
    "    ]\n",
    "\n",
    "    \n",
    "# Hemos creado esta lista de nombres de tablas para poder iterar sobre ella e imprimirá sus nombres apropiadamente a medida que los cree.\n",
    "    nombre_tablas = [\n",
    "        'employees',\n",
    "        ]\n",
    "\n",
    "   # El zip es una función que agrupa listas que tienen múltiples elementos en tuplas. \n",
    "    # Esto luego le permite iterar a través de los nombres en la impresión.\n",
    "    for query, nombre_tablas in zip(queries, nombre_tablas):\n",
    "        try:\n",
    "            mycursor.execute(query) \n",
    "            print(f\"TABLA CREADA CON EL NOMBRE: {nombre_tablas} 🆗\")\n",
    "        \n",
    "        except mysql.connector.Error as err:\n",
    "            print(err)\n",
    "            print(\"Código de error:\", err.errno)\n",
    "            print(\"SQLSTATE\", err.sqlstate)\n",
    "            print(\"mensaje\", err.msg)\n",
    "\n",
    "    cnx.commit()\n",
    "    mycursor.close()\n",
    "    cnx.close()"
   ]
  },
  {
   "cell_type": "code",
   "execution_count": 26,
   "metadata": {},
   "outputs": [
    {
     "name": "stdout",
     "output_type": "stream",
     "text": [
      "DATABASE CREATED UNDER THE NAME: ABC_Corporation 🆗\n"
     ]
    }
   ],
   "source": [
    "# llamada BBDD\n",
    "crear_bbdd()"
   ]
  },
  {
   "cell_type": "code",
   "execution_count": 27,
   "metadata": {},
   "outputs": [
    {
     "name": "stdout",
     "output_type": "stream",
     "text": [
      "TABLA CREADA CON EL NOMBRE: employees 🆗\n"
     ]
    }
   ],
   "source": [
    "# Llamada de tablas\n",
    "crear_tablas()"
   ]
  }
 ],
 "metadata": {
  "kernelspec": {
   "display_name": "base",
   "language": "python",
   "name": "python3"
  },
  "language_info": {
   "codemirror_mode": {
    "name": "ipython",
    "version": 3
   },
   "file_extension": ".py",
   "mimetype": "text/x-python",
   "name": "python",
   "nbconvert_exporter": "python",
   "pygments_lexer": "ipython3",
   "version": "3.11.7"
  }
 },
 "nbformat": 4,
 "nbformat_minor": 2
}
